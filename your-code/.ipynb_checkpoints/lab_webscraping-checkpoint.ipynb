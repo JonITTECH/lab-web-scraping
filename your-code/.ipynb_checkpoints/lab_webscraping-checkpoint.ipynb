{
 "cells": [
  {
   "cell_type": "markdown",
   "metadata": {
    "id": "19XZPgDGSrIu"
   },
   "source": [
    "# Web Scraping Lab\n",
    "\n",
    "You will find in this notebook some scrapy exercises to practise your scraping skills.\n",
    "\n",
    "**Tips:**\n",
    "\n",
    "- Check the response status code for each request to ensure you have obtained the intended content.\n",
    "- Print the response text in each request to understand the kind of info you are getting and its format.\n",
    "- Check for patterns in the response text to extract the data/info requested in each question.\n",
    "- Visit the urls below and take a look at their source code through Chrome DevTools. You'll need to identify the html tags, special class names, etc used in the html content you are expected to extract.\n",
    "\n",
    "**Resources**:\n",
    "- [Requests library](http://docs.python-requests.org/en/master/#the-user-guide)\n",
    "- [Beautiful Soup Doc](https://www.crummy.com/software/BeautifulSoup/bs4/doc/)\n",
    "- [Urllib](https://docs.python.org/3/library/urllib.html#module-urllib)\n",
    "- [re lib](https://docs.python.org/3/library/re.html)\n",
    "- [lxml lib](https://lxml.de/)\n",
    "- [Scrapy](https://scrapy.org/)\n",
    "- [List of HTTP status codes](https://en.wikipedia.org/wiki/List_of_HTTP_status_codes)\n",
    "- [HTML basics](http://www.simplehtmlguide.com/cheatsheet.php)\n",
    "- [CSS basics](https://www.cssbasics.com/#page_start)"
   ]
  },
  {
   "cell_type": "markdown",
   "metadata": {
    "id": "lZZyGHO3SrIw"
   },
   "source": [
    "#### Below are the libraries and modules you may need. `requests`,  `BeautifulSoup` and `pandas` are already imported for you. If you prefer to use additional libraries feel free to do it."
   ]
  },
  {
   "cell_type": "code",
   "execution_count": 1,
   "metadata": {
    "id": "OVz2Bn3aSrIx"
   },
   "outputs": [],
   "source": [
    "import requests\n",
    "from bs4 import BeautifulSoup\n",
    "import pandas as pd"
   ]
  },
  {
   "cell_type": "markdown",
   "metadata": {
    "id": "CwapO0aUSrIy"
   },
   "source": [
    "#### Download, parse (using BeautifulSoup), and print the content from the Trending Developers page from GitHub:"
   ]
  },
  {
   "cell_type": "code",
   "execution_count": 2,
   "metadata": {
    "colab": {
     "base_uri": "https://localhost:8080/"
    },
    "id": "3tsSSLJOSrIy",
    "outputId": "824d75c9-5101-447b-a79d-844dc73fecfb"
   },
   "outputs": [
    {
     "data": {
      "text/plain": [
       "<Response [200]>"
      ]
     },
     "execution_count": 2,
     "metadata": {},
     "output_type": "execute_result"
    }
   ],
   "source": [
    "# This is the url you will scrape in this exercise\n",
    "url = 'https://github.com/trending/developers'\n",
    "response = requests.get(url)\n",
    "response"
   ]
  },
  {
   "cell_type": "code",
   "execution_count": 2,
   "metadata": {},
   "outputs": [
    {
     "name": "stdout",
     "output_type": "stream",
     "text": [
      "J. Nick Koston\n",
      "George Hotz\n",
      "Laurent Mazare\n",
      "Ha Thach\n",
      "oobabooga\n",
      "Hans-Kristian Arntzen\n",
      "Drew Powers\n",
      "Víctor Fernández de Alba\n",
      "Rich Harris\n",
      "Eric Traut\n",
      "lllyasviel\n",
      "David Pedersen\n",
      "Andelf\n",
      "Dorin Hongu\n",
      "Jarred Sumner\n",
      "Lee Robinson\n",
      "Jonas Platte\n",
      "Shahed Nasser\n",
      "Azure SDK Bot\n",
      "Emil Ernerfeldt\n",
      "Adrian Wälchli\n",
      "小弟调调\n",
      "Adeeb Shihadeh\n",
      "Julien Le Coupanec\n",
      "Piero Savastano\n"
     ]
    }
   ],
   "source": [
    "import requests\n",
    "from bs4 import BeautifulSoup\n",
    "\n",
    "url = 'https://github.com/trending/developers'\n",
    "\n",
    "response = requests.get(url)\n",
    "\n",
    "if response.status_code == 200:\n",
    "    soup = BeautifulSoup(response.text, 'html.parser')\n",
    "\n",
    "    developer_names = soup.select('.h3.lh-condensed a')\n",
    "\n",
    "    for name in developer_names:\n",
    "        print(name.text.strip())\n"
   ]
  },
  {
   "cell_type": "markdown",
   "metadata": {
    "id": "f_C_1fqJSrIy"
   },
   "source": [
    "#### 1. Display the names of the trending developers retrieved in the previous step.\n",
    "\n",
    "Your output should be a Python list of developer names. Each name should not contain any html tag.\n",
    "\n",
    "**Instructions:**\n",
    "\n",
    "1. Find out the html tag and class names used for the developer names. You can achieve this using Chrome DevTools or clicking in 'Inspect' on any browser. Here is an example:\n",
    "\n",
    "![title](example_1.png)\n",
    "\n",
    "2. Use BeautifulSoup `find_all()` to extract all the html elements that contain the developer names. Hint: pass in the `attrs` parameter to specify the class.\n",
    "\n",
    "3. Loop through the elements found and get the text for each of them.\n",
    "\n",
    "4. While you are at it, use string manipulation techniques to replace whitespaces and linebreaks (i.e. `\\n`) in the *text* of each html element. Use a list to store the clean names. Hint: you may also use `.get_text()` instead of `.text` and pass in the desired parameters to do some string manipulation (check the documentation).\n",
    "\n",
    "5. Print the list of names.\n",
    "\n",
    "Your output should look like below:\n",
    "\n",
    "```\n",
    "['trimstray (@trimstray)',\n",
    " 'joewalnes (JoeWalnes)',\n",
    " 'charlax (Charles-AxelDein)',\n",
    " 'ForrestKnight (ForrestKnight)',\n",
    " 'revery-ui (revery-ui)',\n",
    " 'alibaba (Alibaba)',\n",
    " 'Microsoft (Microsoft)',\n",
    " 'github (GitHub)',\n",
    " 'facebook (Facebook)',\n",
    " 'boazsegev (Bo)',\n",
    " 'google (Google)',\n",
    " 'cloudfetch',\n",
    " 'sindresorhus (SindreSorhus)',\n",
    " 'tensorflow',\n",
    " 'apache (TheApacheSoftwareFoundation)',\n",
    " 'DevonCrawford (DevonCrawford)',\n",
    " 'ARMmbed (ArmMbed)',\n",
    " 'vuejs (vuejs)',\n",
    " 'fastai (fast.ai)',\n",
    " 'QiShaoXuan (Qi)',\n",
    " 'joelparkerhenderson (JoelParkerHenderson)',\n",
    " 'torvalds (LinusTorvalds)',\n",
    " 'CyC2018',\n",
    " 'komeiji-satori (神楽坂覚々)',\n",
    " 'script-8']\n",
    " ```"
   ]
  },
  {
   "cell_type": "code",
   "execution_count": 4,
   "metadata": {
    "colab": {
     "base_uri": "https://localhost:8080/"
    },
    "id": "HdIn3LANSrIz",
    "outputId": "d00c9088-300b-4656-94e3-5ff4dc57ec56"
   },
   "outputs": [
    {
     "name": "stdout",
     "output_type": "stream",
     "text": [
      "J. Nick Koston (@bdraco)\n",
      "Azure SDK Bot (@azure-sdk)\n",
      "David Pedersen (@davidpdrsn)\n",
      "Romain Beaumont (@rom1504)\n",
      "Steve Macenski (@SteveMacenski)\n",
      "Costa Huang (@vwxyzjn)\n",
      "Bubbliiiing (@bubbliiiing)\n",
      "oobabooga (@drwpow)\n",
      "Drew Powers (@geohot)\n",
      "George Hotz (@rtsisyk)\n",
      "Roman Tsisyk (@slievrly)\n",
      "jimin (@userquin)\n",
      "Joaquín Sánchez (@jhen0409)\n",
      "Jhen-Jie Hong (@jplatte)\n",
      "Jonas Platte (@jaywcjlove)\n",
      "小弟调调 (@Rich-Harris)\n",
      "Rich Harris (@tombuildsstuff)\n",
      "Tom Harvey (@homanp)\n",
      "Ismail Pelaseyed (@pieroit)\n",
      "Piero Savastano (@antonpirker)\n",
      "Anton Pirker (@gre)\n",
      "@greweb (@moklick)\n",
      "Moritz Klack (@lukekarrys)\n"
     ]
    }
   ],
   "source": [
    "soup = BeautifulSoup(response.text, 'html.parser')\n",
    "\n",
    "developers = []\n",
    "\n",
    "for developer_info in soup.find_all('h1', class_='h3 lh-condensed'):\n",
    "    name = developer_info.find('a').text.strip()\n",
    "    developers.append(name)\n",
    "\n",
    "nicknames = []\n",
    "for nickname_info in soup.find_all('p', class_='f4 text-normal mb-1'):\n",
    "    nickname = nickname_info.find('a').text.strip()\n",
    "    nicknames.append(nickname)\n",
    "\n",
    "output = [f'{name} (@{nickname})' for name, nickname in zip(developers, nicknames)]\n",
    "\n",
    "for item in output:\n",
    "    print(item)\n"
   ]
  },
  {
   "cell_type": "markdown",
   "metadata": {
    "id": "7GkmD_zESrIz"
   },
   "source": [
    "#### 1.1. Display the trending Python repositories in GitHub.\n",
    "\n",
    "The steps to solve this problem is similar to the previous one except that you need to find out the repository names instead of developer names."
   ]
  },
  {
   "cell_type": "code",
   "execution_count": 5,
   "metadata": {
    "id": "53l7YYuQSrIz"
   },
   "outputs": [],
   "source": [
    "# This is the url you will scrape in this exercise\n",
    "url = 'https://github.com/trending/python?since=daily'"
   ]
  },
  {
   "cell_type": "code",
   "execution_count": 6,
   "metadata": {
    "colab": {
     "base_uri": "https://localhost:8080/"
    },
    "id": "jy-5oHjbSrIz",
    "outputId": "48c1ab40-2f7e-4426-cc12-ca2d25ff6cfa"
   },
   "outputs": [
    {
     "name": "stdout",
     "output_type": "stream",
     "text": [
      "['run-llama /rags', 'lllyasviel /Fooocus', 'Stability-AI /generative-models', 'huggingface /transformers', 'sh-lee-prml /HierSpeechpp', 'langchain-ai /langchain', 'tiangolo /fastapi', 'jackfrued /Python-100-Days', 'openai /whisper', 'neuralmagic /deepsparse', 'hylarucoder /svd-webui', 'huggingface /alignment-handbook', 'donnemartin /system-design-primer', 'public-apis /public-apis', 's0md3v /roop', 'passivestar /quickmenu', 'bregman-arie /devops-exercises', 'NVIDIA /Stable-Diffusion-WebUI-TensorRT', 'mail-in-a-box /mailinabox', 'THUDM /CogVLM', 'teslamotors /light-show', 'vinta /awesome-python', 'apple /ml-stable-diffusion', 'jianchang512 /clone-voice', 'eosphoros-ai /DB-GPT']\n"
     ]
    }
   ],
   "source": [
    "# your code here\n",
    "response = requests.get(url)\n",
    "soup = BeautifulSoup(response.content)\n",
    "\n",
    "repos = soup.find_all('h2', class_='h3 lh-condensed')\n",
    "repos_names = []\n",
    "\n",
    "for element in repos:\n",
    "    name = element.get_text(strip=True)\n",
    "    repos_names.append(name)\n",
    "\n",
    "print(repos_names)"
   ]
  },
  {
   "cell_type": "markdown",
   "metadata": {
    "id": "aZUz3gCISrIz"
   },
   "source": [
    "#### 2. Display all the image links from Walt Disney wikipedia page.\n",
    "Hint: use `.get()` to access information inside tags. Check out the documentation."
   ]
  },
  {
   "cell_type": "code",
   "execution_count": 7,
   "metadata": {
    "id": "XYC_8GQiSrI0"
   },
   "outputs": [],
   "source": [
    "# This is the url you will scrape in this exercise\n",
    "url = 'https://en.wikipedia.org/wiki/Walt_Disney'"
   ]
  },
  {
   "cell_type": "code",
   "execution_count": 8,
   "metadata": {
    "colab": {
     "base_uri": "https://localhost:8080/"
    },
    "id": "pw0PXPBOSrI0",
    "outputId": "5bff766d-8716-4298-d334-244c7a6a4b46"
   },
   "outputs": [
    {
     "name": "stdout",
     "output_type": "stream",
     "text": [
      "//upload.wikimedia.org/wikipedia/en/thumb/e/e7/Cscr-featured.svg/20px-Cscr-featured.svg.png\n"
     ]
    }
   ],
   "source": [
    "# your code here\n",
    "response = requests.get(url)\n",
    "soup = BeautifulSoup(response.content, 'html.parser')\n",
    "\n",
    "img_element = soup.find('img', class_='mw-file-element')\n",
    "\n",
    "image_url = img_element.get('src')\n",
    "\n",
    "print(image_url)\n",
    "\n"
   ]
  },
  {
   "cell_type": "markdown",
   "metadata": {
    "id": "97JjYK2KSrI0"
   },
   "source": [
    "#### 2.1. List all language names and number of related articles in the order they appear in wikipedia.org."
   ]
  },
  {
   "cell_type": "code",
   "execution_count": 9,
   "metadata": {
    "id": "G8T2uyHrSrI0"
   },
   "outputs": [],
   "source": [
    "# This is the url you will scrape in this exercise\n",
    "url = 'https://www.wikipedia.org/'"
   ]
  },
  {
   "cell_type": "code",
   "execution_count": 10,
   "metadata": {
    "colab": {
     "base_uri": "https://localhost:8080/"
    },
    "id": "-UzrPGXBSrI0",
    "outputId": "3a70054b-5025-4851-f275-7c4cae8e5245"
   },
   "outputs": [
    {
     "name": "stdout",
     "output_type": "stream",
     "text": [
      "English: 6 744 000+ articles\n",
      "Español: 1 906 000+ articles\n",
      "Русский: 1 947 000+ articles\n",
      "日本語: 1 392 000+ articles\n",
      "Deutsch: 2 852 000+ articles\n",
      "Français: 2 567 000+ articles\n",
      "Italiano: 1 835 000+ articles\n",
      "中文: 1 387 000+ articles\n",
      "العربية: العربية articles\n",
      "Português: 1 113 000+ articles\n"
     ]
    }
   ],
   "source": [
    "# your code here\n",
    "response = requests.get(url)\n",
    "soup = BeautifulSoup(response.content, 'html.parser')\n",
    "\n",
    "language_elements = soup.find_all('a', id=lambda x: x and 'js-link-box' in x)\n",
    "\n",
    "for lang in language_elements:\n",
    "    language_name = lang.find('strong').get_text(strip=True)\n",
    "    article_count = lang.find('bdi').get_text(strip=True)\n",
    "    print(f'{language_name}: {article_count} articles')"
   ]
  },
  {
   "cell_type": "markdown",
   "metadata": {
    "id": "wf2o_mBoSrI0"
   },
   "source": [
    "#### 2.2. Display the top 10 languages by number of native speakers stored in a pandas dataframe.\n",
    "Hint: After finding the correct table you want to analyse, you can use a nested **for** loop to find the elements row by row (check out the 'td' and 'tr' tags). <br>An easier way to do it is using pd.read_html(), check out documentation [here](https://pandas.pydata.org/pandas-docs/version/0.23.4/generated/pandas.read_html.html)."
   ]
  },
  {
   "cell_type": "code",
   "execution_count": 11,
   "metadata": {
    "id": "tmz68rEeSrI1"
   },
   "outputs": [],
   "source": [
    "# This is the url you will scrape in this exercise\n",
    "url = 'https://en.wikipedia.org/wiki/List_of_languages_by_number_of_native_speakers'"
   ]
  },
  {
   "cell_type": "code",
   "execution_count": 12,
   "metadata": {
    "colab": {
     "base_uri": "https://localhost:8080/"
    },
    "id": "FwxnM_DaSrI1",
    "outputId": "18b6014a-c437-43c2-f4a4-5ca3281dce5d"
   },
   "outputs": [
    {
     "name": "stdout",
     "output_type": "stream",
     "text": [
      "           Language  Native speakers (millions) Language family        Branch\n",
      "0  Mandarin Chinese                       939.0    Sino-Tibetan       Sinitic\n",
      "1           Spanish                       485.0   Indo-European       Romance\n",
      "2           English                       380.0   Indo-European      Germanic\n",
      "3             Hindi                       345.0   Indo-European    Indo-Aryan\n",
      "4        Portuguese                       236.0   Indo-European       Romance\n",
      "5           Bengali                       234.0   Indo-European    Indo-Aryan\n",
      "6           Russian                       147.0   Indo-European  Balto-Slavic\n",
      "7          Japanese                       123.0         Japonic      Japanese\n",
      "8       Yue Chinese                        86.1    Sino-Tibetan       Sinitic\n",
      "9        Vietnamese                        85.0   Austroasiatic        Vietic\n"
     ]
    }
   ],
   "source": [
    "# your code here\n",
    "\n",
    "import pandas as pd\n",
    "\n",
    "# to get tables from the page\n",
    "tables = pd.read_html(url)\n",
    "\n",
    "df = tables[0]\n",
    "\n",
    "print(df.head(10))\n",
    "\n",
    "\n"
   ]
  },
  {
   "cell_type": "markdown",
   "metadata": {
    "id": "0L9v8TikSrI1"
   },
   "source": [
    "#### 3. Display IMDB's top 250 data (movie name, initial release, director name and stars) as a pandas dataframe.\n",
    "Hint: If you hover over the title of the movie, you should see the director's name. Can you find where it's stored in the html?"
   ]
  },
  {
   "cell_type": "code",
   "execution_count": 20,
   "metadata": {
    "id": "O83Is8o7SrI1"
   },
   "outputs": [],
   "source": [
    "import time\n",
    "# This is the url you will scrape in this exercise\n",
    "url = 'https://www.imdb.com/chart/top'"
   ]
  },
  {
   "cell_type": "code",
   "execution_count": 36,
   "metadata": {
    "colab": {
     "base_uri": "https://localhost:8080/"
    },
    "id": "4EMLE2CvGKL1",
    "outputId": "bea64702-caac-41af-cc40-43073f183b2c"
   },
   "outputs": [
    {
     "data": {
      "text/plain": [
       "200"
      ]
     },
     "execution_count": 36,
     "metadata": {},
     "output_type": "execute_result"
    }
   ],
   "source": [
    "headers= {'Accept-Encoding':'gzip, deflate',\n",
    "          'Accept-Language':'en-US,en;q=0.9',\n",
    "          'User-Agent':'Mozilla/5.0 (Windows NT 10.0; Win64; x64) AppleWebKit/537.36 (KHTML, like Gecko) Chrome/100.0.4896.88 Safari/537.36'}\n",
    "response = requests.get(url, headers = headers)\n",
    "response.status_code\n"
   ]
  },
  {
   "cell_type": "code",
   "execution_count": 23,
   "metadata": {},
   "outputs": [
    {
     "name": "stdout",
     "output_type": "stream",
     "text": [
      "                  movie_title release director  rating\n",
      "0    The Shawshank Redemption    1994              9.3\n",
      "1               The Godfather    1972              9.2\n",
      "2             The Dark Knight    2008              9.0\n",
      "3       The Godfather Part II    1974              9.0\n",
      "4                   Angry Men    1957              9.0\n",
      "..                        ...     ...      ...     ...\n",
      "245             The 400 Blows    1959              8.1\n",
      "246                   Aladdin    1992              8.0\n",
      "247        Dances with Wolves    1990              8.0\n",
      "248                  Drishyam    2015              8.2\n",
      "249             Life of Brian    1979              8.0\n",
      "\n",
      "[250 rows x 4 columns]\n"
     ]
    }
   ],
   "source": [
    "soup = BeautifulSoup(response.text, 'html.parser')\n",
    "\n",
    "movies = soup.select('.ipc-metadata-list-summary-item')\n",
    "\n",
    "imdb = []\n",
    "\n",
    "\n",
    "for index in range(0, len(movies)):\n",
    "\n",
    "    movie_title = movies[index].select_one('.ipc-title__text').text\n",
    "\n",
    "    release = movies[index].select_one('.sc-479faa3c-7.jXgjdT.cli-title-metadata span').text\n",
    "\n",
    "    director_name = \"\"\n",
    "\n",
    "    rating = float(movies[index].select_one('.ipc-rating-star').get_text().split()[0])\n",
    "\n",
    "    imdb.append({\"movie_title\": movie_title, \"release\": release, \"director\": director_name, \"rating\": rating})\n",
    "\n",
    "df = pd.DataFrame(imdb)\n",
    "\n",
    "df['movie_title'] = df['movie_title'].str.lstrip('1234567890. ')\n",
    "\n",
    "print(df)\n",
    "\n",
    "# The director is no longer in that place but rather in a memory accessed through a button (not in HTML)"
   ]
  },
  {
   "cell_type": "markdown",
   "metadata": {
    "id": "fmfjWdUwSrI1"
   },
   "source": [
    "#### 3.1. Display the movie name, year and a brief summary of the top 10 random movies (IMDB) as a pandas dataframe."
   ]
  },
  {
   "cell_type": "code",
   "execution_count": 1,
   "metadata": {},
   "outputs": [
    {
     "data": {
      "text/html": [
       "<div>\n",
       "<style scoped>\n",
       "    .dataframe tbody tr th:only-of-type {\n",
       "        vertical-align: middle;\n",
       "    }\n",
       "\n",
       "    .dataframe tbody tr th {\n",
       "        vertical-align: top;\n",
       "    }\n",
       "\n",
       "    .dataframe thead th {\n",
       "        text-align: right;\n",
       "    }\n",
       "</style>\n",
       "<table border=\"1\" class=\"dataframe\">\n",
       "  <thead>\n",
       "    <tr style=\"text-align: right;\">\n",
       "      <th></th>\n",
       "      <th>title</th>\n",
       "      <th>summary</th>\n",
       "    </tr>\n",
       "  </thead>\n",
       "  <tbody>\n",
       "    <tr>\n",
       "      <th>0</th>\n",
       "      <td>A Nightmare on Elm Street</td>\n",
       "      <td>Teenager Nancy Thompson must uncover the dark ...</td>\n",
       "    </tr>\n",
       "    <tr>\n",
       "      <th>1</th>\n",
       "      <td>Awakenings</td>\n",
       "      <td>The victims of an encephalitis epidemic many y...</td>\n",
       "    </tr>\n",
       "    <tr>\n",
       "      <th>2</th>\n",
       "      <td>A League of Their Own</td>\n",
       "      <td>Two sisters join the first female professional...</td>\n",
       "    </tr>\n",
       "    <tr>\n",
       "      <th>3</th>\n",
       "      <td>A Bronx Tale</td>\n",
       "      <td>Robert De Niro and Chazz Palminteri give capti...</td>\n",
       "    </tr>\n",
       "    <tr>\n",
       "      <th>4</th>\n",
       "      <td>Angels in the Outfield</td>\n",
       "      <td>When a boy prays for a chance to have a family...</td>\n",
       "    </tr>\n",
       "    <tr>\n",
       "      <th>...</th>\n",
       "      <td>...</td>\n",
       "      <td>...</td>\n",
       "    </tr>\n",
       "    <tr>\n",
       "      <th>95</th>\n",
       "      <td>Burning Palms</td>\n",
       "      <td>A subversive tale that interlaces five stories...</td>\n",
       "    </tr>\n",
       "    <tr>\n",
       "      <th>96</th>\n",
       "      <td>Bad Teacher</td>\n",
       "      <td>A lazy, incompetent middle school teacher who ...</td>\n",
       "    </tr>\n",
       "    <tr>\n",
       "      <th>97</th>\n",
       "      <td>Bridesmaids</td>\n",
       "      <td>Competition between the maid of honor and a br...</td>\n",
       "    </tr>\n",
       "    <tr>\n",
       "      <th>98</th>\n",
       "      <td>Child's Play</td>\n",
       "      <td>A struggling single mother unknowingly gifts h...</td>\n",
       "    </tr>\n",
       "    <tr>\n",
       "      <th>99</th>\n",
       "      <td>Cry-Baby</td>\n",
       "      <td>In 1950s Baltimore, a bad boy with a heart of ...</td>\n",
       "    </tr>\n",
       "  </tbody>\n",
       "</table>\n",
       "<p>100 rows × 2 columns</p>\n",
       "</div>"
      ],
      "text/plain": [
       "                        title  \\\n",
       "0   A Nightmare on Elm Street   \n",
       "1                  Awakenings   \n",
       "2       A League of Their Own   \n",
       "3                A Bronx Tale   \n",
       "4      Angels in the Outfield   \n",
       "..                        ...   \n",
       "95              Burning Palms   \n",
       "96                Bad Teacher   \n",
       "97                Bridesmaids   \n",
       "98               Child's Play   \n",
       "99                   Cry-Baby   \n",
       "\n",
       "                                              summary  \n",
       "0   Teenager Nancy Thompson must uncover the dark ...  \n",
       "1   The victims of an encephalitis epidemic many y...  \n",
       "2   Two sisters join the first female professional...  \n",
       "3   Robert De Niro and Chazz Palminteri give capti...  \n",
       "4   When a boy prays for a chance to have a family...  \n",
       "..                                                ...  \n",
       "95  A subversive tale that interlaces five stories...  \n",
       "96  A lazy, incompetent middle school teacher who ...  \n",
       "97  Competition between the maid of honor and a br...  \n",
       "98  A struggling single mother unknowingly gifts h...  \n",
       "99  In 1950s Baltimore, a bad boy with a heart of ...  \n",
       "\n",
       "[100 rows x 2 columns]"
      ]
     },
     "execution_count": 1,
     "metadata": {},
     "output_type": "execute_result"
    }
   ],
   "source": [
    "import requests\n",
    "from bs4 import BeautifulSoup\n",
    "import pandas as pd\n",
    "\n",
    "url = 'https://www.imdb.com/list/ls009796553/'\n",
    "\n",
    "headers = {\n",
    "    'Accept-Encoding': 'gzip, deflate',\n",
    "    'Accept-Language': 'en-US,en;q=0.9',\n",
    "    'User-Agent': 'Mozilla/5.0 (Windows NT 10.0; Win64; x64) AppleWebKit/537.36 (KHTML, like Gecko) Chrome/100.0.4896.88 Safari/537.36'\n",
    "}\n",
    "\n",
    "response = requests.get(url, headers=headers)\n",
    "soup = BeautifulSoup(response.text, 'html.parser')\n",
    "\n",
    "movies_divs = soup.find_all('div', class_='lister-item-content')\n",
    "\n",
    "movies_data = []\n",
    "\n",
    "for div in movies_divs:\n",
    "    title_element = div.find('h3', class_='lister-item-header').a\n",
    "    movie_title = title_element.text.strip() if title_element else 'No title'\n",
    "\n",
    "    summary_element = div.find('p', class_='')\n",
    "    summary = summary_element.text.strip() if summary_element else 'No summary'\n",
    "\n",
    "    movies_data.append({'title': movie_title, 'summary': summary})\n",
    "\n",
    "df = pd.DataFrame(movies_data)\n",
    "\n",
    "df\n"
   ]
  },
  {
   "cell_type": "markdown",
   "metadata": {
    "id": "4GY-EzisSrI1"
   },
   "source": [
    "## Bonus"
   ]
  },
  {
   "cell_type": "markdown",
   "metadata": {
    "id": "cNuP5TQhSrI2"
   },
   "source": [
    "#### Find the live weather report (temperature, wind speed, description and weather) of a given city."
   ]
  },
  {
   "cell_type": "code",
   "execution_count": null,
   "metadata": {
    "id": "m9UKYBJqSrI2"
   },
   "outputs": [],
   "source": [
    "#https://openweathermap.org/current\n",
    "city = input('Enter the city: ')\n",
    "url = 'http://api.openweathermap.org/data/2.5/weather?'+'q='+city+'&APPID=b35975e18dc93725acb092f7272cc6b8&units=metric'"
   ]
  },
  {
   "cell_type": "code",
   "execution_count": null,
   "metadata": {
    "id": "soOMTAESSrI2"
   },
   "outputs": [],
   "source": [
    "# your code here"
   ]
  },
  {
   "cell_type": "markdown",
   "metadata": {
    "id": "NyYEJvh2SrI2"
   },
   "source": [
    "#### Find the book name, price and stock availability as a pandas dataframe."
   ]
  },
  {
   "cell_type": "code",
   "execution_count": null,
   "metadata": {
    "id": "Peml02zfSrI2"
   },
   "outputs": [],
   "source": [
    "# This is the url you will scrape in this exercise.\n",
    "# It is a fictional bookstore created to be scraped.\n",
    "url = 'http://books.toscrape.com/'"
   ]
  },
  {
   "cell_type": "code",
   "execution_count": null,
   "metadata": {
    "id": "Cz-ZBkt0SrI2"
   },
   "outputs": [],
   "source": [
    "# your code here"
   ]
  },
  {
   "cell_type": "markdown",
   "metadata": {
    "id": "runjRhRBSrI2"
   },
   "source": [
    "####  Display the 100 latest earthquakes info (date, time, latitude, longitude and region name) by the EMSC as a pandas dataframe.\n",
    "***Hint:*** Here the displayed number of earthquakes per page is 20, but you can easily move to the next page by looping through the desired number of pages and adding it to the end of the url."
   ]
  },
  {
   "cell_type": "code",
   "execution_count": null,
   "metadata": {
    "id": "YAUrjRNJSrI2"
   },
   "outputs": [],
   "source": [
    "# This is the url you will scrape in this exercise\n",
    "url = 'https://www.emsc-csem.org/Earthquake/?view='\n",
    "\n",
    "# This is how you will loop through each page:\n",
    "number_of_pages = int(100/20)\n",
    "each_page_urls = []\n",
    "\n",
    "for n in range(1, number_of_pages+1):\n",
    "    link = url+str(n)\n",
    "    each_page_urls.append(link)\n",
    "\n",
    "each_page_urls"
   ]
  },
  {
   "cell_type": "code",
   "execution_count": null,
   "metadata": {
    "id": "xOyYksdRSrI3"
   },
   "outputs": [],
   "source": [
    "# your code here"
   ]
  }
 ],
 "metadata": {
  "colab": {
   "provenance": []
  },
  "kernelspec": {
   "display_name": "Python 3 (ipykernel)",
   "language": "python",
   "name": "python3"
  },
  "language_info": {
   "codemirror_mode": {
    "name": "ipython",
    "version": 3
   },
   "file_extension": ".py",
   "mimetype": "text/x-python",
   "name": "python",
   "nbconvert_exporter": "python",
   "pygments_lexer": "ipython3",
   "version": "3.11.4"
  }
 },
 "nbformat": 4,
 "nbformat_minor": 1
}
